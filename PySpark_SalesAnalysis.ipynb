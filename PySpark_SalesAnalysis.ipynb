{
 "cells": [
  {
   "cell_type": "markdown",
   "id": "895f785b-e7e5-4a46-b32d-f49e1ef93d90",
   "metadata": {},
   "source": [
    "# Sales Dataframe"
   ]
  },
  {
   "cell_type": "code",
   "execution_count": 3,
   "id": "d8d3075a-88f9-4950-a079-fc0b1f999614",
   "metadata": {},
   "outputs": [],
   "source": [
    "from pyspark.sql import SparkSession\n",
    "spark = SparkSession.builder.appName('Sales Analysis').getOrCreate()"
   ]
  },
  {
   "cell_type": "code",
   "execution_count": 5,
   "id": "9058d791-401a-4a9c-85db-8f27894ac282",
   "metadata": {},
   "outputs": [
    {
     "data": {
      "text/html": [
       "\n",
       "            <div>\n",
       "                <p><b>SparkSession - in-memory</b></p>\n",
       "                \n",
       "        <div>\n",
       "            <p><b>SparkContext</b></p>\n",
       "\n",
       "            <p><a href=\"http://DESKTOP-KLF383Q:4041\">Spark UI</a></p>\n",
       "\n",
       "            <dl>\n",
       "              <dt>Version</dt>\n",
       "                <dd><code>v4.0.0</code></dd>\n",
       "              <dt>Master</dt>\n",
       "                <dd><code>local[*]</code></dd>\n",
       "              <dt>AppName</dt>\n",
       "                <dd><code>Sales Analysis</code></dd>\n",
       "            </dl>\n",
       "        </div>\n",
       "        \n",
       "            </div>\n",
       "        "
      ],
      "text/plain": [
       "<pyspark.sql.session.SparkSession at 0x19fb6662030>"
      ]
     },
     "execution_count": 5,
     "metadata": {},
     "output_type": "execute_result"
    }
   ],
   "source": [
    "spark"
   ]
  },
  {
   "cell_type": "markdown",
   "id": "09bbb1c5-a4f4-46fc-b968-981d3e7c5488",
   "metadata": {},
   "source": [
    "# Sales Dataframe"
   ]
  },
  {
   "cell_type": "code",
   "execution_count": 19,
   "id": "6eac86c1-aa28-4542-b962-36445d9d4c1a",
   "metadata": {},
   "outputs": [
    {
     "data": {
      "text/plain": [
       "DataFrame[product_id: int, customer_id: string, order_date: date, location: string, source_order: string]"
      ]
     },
     "metadata": {},
     "output_type": "display_data"
    }
   ],
   "source": [
    "from pyspark.sql.types import StructField, StructType, StringType, IntegerType, DateType\n",
    "\n",
    "schema = StructType([\n",
    "\n",
    "  StructField(\"product_id\", IntegerType(), True),\n",
    "  StructField(\"customer_id\", StringType(), True),\n",
    "  StructField(\"order_date\", DateType(), True),\n",
    "  StructField(\"location\", StringType(), True),\n",
    "  StructField(\"source_order\", StringType(), True)\n",
    "\n",
    "])\n",
    "sales_df = spark.read.csv(r\"C:\\Users\\Sarayu\\Downloads\\sales_analysis_data.csv\" , schema = schema, header = True)\n",
    "\n",
    "display(sales_df)\n"
   ]
  },
  {
   "cell_type": "code",
   "execution_count": 20,
   "id": "ff933ffd-0bca-4f90-bbfa-813ba8f970eb",
   "metadata": {},
   "outputs": [
    {
     "name": "stdout",
     "output_type": "stream",
     "text": [
      "+----------+-----------+----------+--------+------------+\n",
      "|product_id|customer_id|order_date|location|source_order|\n",
      "+----------+-----------+----------+--------+------------+\n",
      "|         2|          A|2022-01-01|   India|      Swiggy|\n",
      "|         2|          A|2023-01-07|   India|      Swiggy|\n",
      "|         3|          A|2023-01-10|   India|  Restaurant|\n",
      "|         3|          A|2022-01-11|   India|      Swiggy|\n",
      "|         3|          A|2023-01-11|   India|  Restaurant|\n",
      "|         2|          B|2022-02-01|   India|      Swiggy|\n",
      "|         2|          B|2023-01-02|   India|      Swiggy|\n",
      "|         1|          B|2023-01-04|   India|  Restaurant|\n",
      "|         1|          B|2023-02-11|   India|      Swiggy|\n",
      "|         3|          B|2023-01-16|   India|      zomato|\n",
      "|         3|          B|2022-02-01|   India|      zomato|\n",
      "|         3|          C|2023-01-01|   India|      zomato|\n",
      "|         1|          C|2023-01-01|      UK|      Swiggy|\n",
      "|         6|          C|2022-01-07|      UK|      zomato|\n",
      "|         3|          D|2023-02-16|      UK|  Restaurant|\n",
      "|         5|          D|2022-02-01|      UK|      zomato|\n",
      "|         3|          E|2023-02-01|      UK|  Restaurant|\n",
      "|         4|          E|2023-02-01|      UK|      Swiggy|\n",
      "|         4|          E|2023-02-07|      UK|  Restaurant|\n",
      "|         2|          A|2022-01-01|      UK|      Swiggy|\n",
      "+----------+-----------+----------+--------+------------+\n",
      "only showing top 20 rows\n"
     ]
    }
   ],
   "source": [
    "sales_df.show()"
   ]
  },
  {
   "cell_type": "code",
   "execution_count": 22,
   "id": "87edba06-ecf5-454b-be1c-87bb36e5d212",
   "metadata": {},
   "outputs": [
    {
     "data": {
      "text/plain": [
       "DataFrame[product_id: int, customer_id: string, order_date: date, location: string, source_order: string, order_year: int, order_month: int, quarter: int]"
      ]
     },
     "metadata": {},
     "output_type": "display_data"
    }
   ],
   "source": [
    "from pyspark.sql.functions import year, month, quarter\n",
    "\n",
    "sales_df = sales_df.withColumn(\"order_year\", year(\"order_date\"))\n",
    "sales_df = sales_df.withColumn(\"order_month\", month(\"order_date\"))\n",
    "sales_df = sales_df.withColumn(\"quarter\", quarter(\"order_date\"))\n",
    "display(sales_df)"
   ]
  },
  {
   "cell_type": "code",
   "execution_count": 23,
   "id": "e682760d-e6d6-4ac5-8742-5c1d35c2cd56",
   "metadata": {},
   "outputs": [
    {
     "name": "stdout",
     "output_type": "stream",
     "text": [
      "+----------+-----------+----------+--------+------------+----------+-----------+-------+\n",
      "|product_id|customer_id|order_date|location|source_order|order_year|order_month|quarter|\n",
      "+----------+-----------+----------+--------+------------+----------+-----------+-------+\n",
      "|         2|          A|2022-01-01|   India|      Swiggy|      2022|          1|      1|\n",
      "|         2|          A|2023-01-07|   India|      Swiggy|      2023|          1|      1|\n",
      "|         3|          A|2023-01-10|   India|  Restaurant|      2023|          1|      1|\n",
      "|         3|          A|2022-01-11|   India|      Swiggy|      2022|          1|      1|\n",
      "|         3|          A|2023-01-11|   India|  Restaurant|      2023|          1|      1|\n",
      "|         2|          B|2022-02-01|   India|      Swiggy|      2022|          2|      1|\n",
      "|         2|          B|2023-01-02|   India|      Swiggy|      2023|          1|      1|\n",
      "|         1|          B|2023-01-04|   India|  Restaurant|      2023|          1|      1|\n",
      "|         1|          B|2023-02-11|   India|      Swiggy|      2023|          2|      1|\n",
      "|         3|          B|2023-01-16|   India|      zomato|      2023|          1|      1|\n",
      "|         3|          B|2022-02-01|   India|      zomato|      2022|          2|      1|\n",
      "|         3|          C|2023-01-01|   India|      zomato|      2023|          1|      1|\n",
      "|         1|          C|2023-01-01|      UK|      Swiggy|      2023|          1|      1|\n",
      "|         6|          C|2022-01-07|      UK|      zomato|      2022|          1|      1|\n",
      "|         3|          D|2023-02-16|      UK|  Restaurant|      2023|          2|      1|\n",
      "|         5|          D|2022-02-01|      UK|      zomato|      2022|          2|      1|\n",
      "|         3|          E|2023-02-01|      UK|  Restaurant|      2023|          2|      1|\n",
      "|         4|          E|2023-02-01|      UK|      Swiggy|      2023|          2|      1|\n",
      "|         4|          E|2023-02-07|      UK|  Restaurant|      2023|          2|      1|\n",
      "|         2|          A|2022-01-01|      UK|      Swiggy|      2022|          1|      1|\n",
      "+----------+-----------+----------+--------+------------+----------+-----------+-------+\n",
      "only showing top 20 rows\n"
     ]
    }
   ],
   "source": [
    "sales_df.show()"
   ]
  },
  {
   "cell_type": "code",
   "execution_count": 28,
   "id": "e6cd4b74-d260-4ac6-9804-09f5222a0d72",
   "metadata": {},
   "outputs": [
    {
     "data": {
      "text/plain": [
       "DataFrame[product_id: int, product_name: string, price: int]"
      ]
     },
     "metadata": {},
     "output_type": "display_data"
    }
   ],
   "source": [
    "schema1 = StructType([\n",
    "    StructField(\"product_id\", IntegerType(), True),\n",
    "    StructField(\"product_name\", StringType(), True),\n",
    "    StructField(\"price\",IntegerType(), True)\n",
    "])\n",
    "\n",
    "menu_df = spark.read.csv(r\"C:\\Users\\Sarayu\\Downloads\\menu_data.csv\", schema = schema1, header = True)\n",
    "display(menu_df)"
   ]
  },
  {
   "cell_type": "code",
   "execution_count": 29,
   "id": "efb8762e-a3a3-4ade-bf3d-8fcb79f36d3f",
   "metadata": {},
   "outputs": [
    {
     "name": "stdout",
     "output_type": "stream",
     "text": [
      "+----------+------------+-----+\n",
      "|product_id|product_name|price|\n",
      "+----------+------------+-----+\n",
      "|         2|     Chowmin|  150|\n",
      "|         3|    sandwich|  120|\n",
      "|         4|        Dosa|  110|\n",
      "|         5|     Biryani|   80|\n",
      "|         6|       Pasta|  180|\n",
      "+----------+------------+-----+\n",
      "\n"
     ]
    }
   ],
   "source": [
    "menu_df.show()"
   ]
  },
  {
   "cell_type": "code",
   "execution_count": 32,
   "id": "b7e87b3e-c1b5-4917-bdd7-4de3f6ee0a8f",
   "metadata": {},
   "outputs": [
    {
     "name": "stdout",
     "output_type": "stream",
     "text": [
      "+-----------+-----------+\n",
      "|customer_id|total_spent|\n",
      "+-----------+-----------+\n",
      "|          A|       3960|\n",
      "|          B|       3240|\n",
      "|          C|       1800|\n",
      "|          D|       1200|\n",
      "|          E|       2040|\n",
      "+-----------+-----------+\n",
      "\n"
     ]
    }
   ],
   "source": [
    "from pyspark.sql.functions import sum, col\n",
    "\n",
    "total_amount_spent = sales_df.join(menu_df, \"product_id\").groupby(\"customer_id\").agg(sum(\"price\").alias(\"total_spent\")).orderBy(\"customer_id\")\n",
    "\n",
    "total_amount_spent.show()\n",
    "     "
   ]
  },
  {
   "cell_type": "code",
   "execution_count": 34,
   "id": "2a3c042e-363d-47dd-96e3-80bc8241b90b",
   "metadata": {},
   "outputs": [
    {
     "name": "stdout",
     "output_type": "stream",
     "text": [
      "+------------+-------------------+\n",
      "|product_name|total_spent_on_food|\n",
      "+------------+-------------------+\n",
      "|     Biryani|                480|\n",
      "|       Pasta|               1080|\n",
      "|        Dosa|               1320|\n",
      "|     Chowmin|               3600|\n",
      "|    sandwich|               5760|\n",
      "+------------+-------------------+\n",
      "\n"
     ]
    }
   ],
   "source": [
    "total_amount_spent = sales_df.join(menu_df, \"product_id\").groupBy(\"product_name\").agg(sum(\"price\").alias(\"total_spent_on_food\")).orderBy(\"total_spent_on_food\")\n",
    "total_amount_spent.show()"
   ]
  },
  {
   "cell_type": "code",
   "execution_count": 36,
   "id": "de30f4fe-8bb3-43c7-83f7-23bb48897178",
   "metadata": {},
   "outputs": [
    {
     "name": "stdout",
     "output_type": "stream",
     "text": [
      "+-----------+----------------+\n",
      "|order_month|sales_each_month|\n",
      "+-----------+----------------+\n",
      "|          1|            2460|\n",
      "|          2|            2430|\n",
      "|          3|             810|\n",
      "|          5|            2460|\n",
      "|          6|            2460|\n",
      "|          7|             810|\n",
      "|         11|             810|\n",
      "+-----------+----------------+\n",
      "\n"
     ]
    }
   ],
   "source": [
    "total_sales_each_month = sales_df.join(menu_df, \"product_id\").groupBy(\"order_month\").agg(sum(\"price\").alias(\"sales_each_month\")).orderBy(\"order_month\")\n",
    "total_sales_each_month.show()"
   ]
  },
  {
   "cell_type": "code",
   "execution_count": 37,
   "id": "dfb80dd3-59a7-4f0f-b3b2-a6126b18ecfc",
   "metadata": {},
   "outputs": [
    {
     "name": "stdout",
     "output_type": "stream",
     "text": [
      "+----------+------------+\n",
      "|order_year|yearly_sales|\n",
      "+----------+------------+\n",
      "|      2022|        4350|\n",
      "|      2023|        7890|\n",
      "+----------+------------+\n",
      "\n"
     ]
    }
   ],
   "source": [
    "yearly_sales_df = sales_df.join(menu_df, \"product_id\").groupBy(\"order_year\").agg(sum(\"price\").alias(\"yearly_sales\")).orderBy(\"yearly_sales\")\n",
    "yearly_sales_df.show()"
   ]
  },
  {
   "cell_type": "code",
   "execution_count": 38,
   "id": "fe99aec1-e747-4bea-a023-246645079fef",
   "metadata": {},
   "outputs": [
    {
     "name": "stdout",
     "output_type": "stream",
     "text": [
      "+-------+---------------+\n",
      "|quarter|quarterly_sales|\n",
      "+-------+---------------+\n",
      "|      1|           5700|\n",
      "|      2|           4920|\n",
      "|      3|            810|\n",
      "|      4|            810|\n",
      "+-------+---------------+\n",
      "\n"
     ]
    }
   ],
   "source": [
    "quarter_df = sales_df.join(menu_df, \"product_id\").groupBy(\"quarter\").agg(sum(\"price\").alias(\"quarterly_sales\")).orderBy(\"quarter\")\n",
    "quarter_df.show()\n",
    "     "
   ]
  },
  {
   "cell_type": "code",
   "execution_count": 39,
   "id": "b93e0607-0f72-42ad-a35a-0ef29bf3406a",
   "metadata": {},
   "outputs": [
    {
     "name": "stdout",
     "output_type": "stream",
     "text": [
      "+------------+-----------------------+\n",
      "|product_name|how_many_time_purchased|\n",
      "+------------+-----------------------+\n",
      "|    sandwich|                     48|\n",
      "|     Chowmin|                     24|\n",
      "|        Dosa|                     12|\n",
      "|     Biryani|                      6|\n",
      "|       Pasta|                      6|\n",
      "+------------+-----------------------+\n",
      "\n"
     ]
    }
   ],
   "source": [
    "from pyspark.sql.functions import count\n",
    "count_purchase = sales_df.join(menu_df, \"product_id\").groupBy(\"product_name\").agg(count(\"product_id\").alias(\"how_many_time_purchased\")).orderBy(\"how_many_time_purchased\", ascending = False)\n",
    "count_purchase.show()"
   ]
  },
  {
   "cell_type": "code",
   "execution_count": 40,
   "id": "7c6fd7f5-dceb-4bba-84eb-52b899a2e5a2",
   "metadata": {},
   "outputs": [
    {
     "name": "stdout",
     "output_type": "stream",
     "text": [
      "+------------+-----------------------+\n",
      "|product_name|how_many_time_purchased|\n",
      "+------------+-----------------------+\n",
      "|    sandwich|                     48|\n",
      "+------------+-----------------------+\n",
      "\n"
     ]
    }
   ],
   "source": [
    "from pyspark.sql.functions import count\n",
    "count_purchase = sales_df.join(menu_df, \"product_id\").groupBy(\"product_name\").agg(count(\"product_id\").alias(\"how_many_time_purchased\")).orderBy(\"how_many_time_purchased\", ascending = False).limit(1)\n",
    "count_purchase.show()"
   ]
  },
  {
   "cell_type": "code",
   "execution_count": 41,
   "id": "6bc5911e-379a-42a0-9f42-d49be4c7f7cb",
   "metadata": {},
   "outputs": [
    {
     "name": "stdout",
     "output_type": "stream",
     "text": [
      "+-----------+---------+\n",
      "|customer_id|frequency|\n",
      "+-----------+---------+\n",
      "|          E|        5|\n",
      "|          B|        6|\n",
      "|          D|        1|\n",
      "|          C|        3|\n",
      "|          A|        6|\n",
      "+-----------+---------+\n",
      "\n"
     ]
    }
   ],
   "source": [
    "from pyspark.sql.functions import countDistinct\n",
    "restaurant_frequency = sales_df.filter(sales_df.source_order == \"Restaurant\").groupBy(\"customer_id\").agg(countDistinct(\"order_date\").alias(\"frequency\"))\n",
    "restaurant_frequency.show()"
   ]
  },
  {
   "cell_type": "code",
   "execution_count": 42,
   "id": "92c04a55-f1ea-42de-bfa9-55080a1e7076",
   "metadata": {},
   "outputs": [
    {
     "name": "stdout",
     "output_type": "stream",
     "text": [
      "+--------+----------------+\n",
      "|location|sales_by_country|\n",
      "+--------+----------------+\n",
      "|      UK|            6120|\n",
      "|   India|            3960|\n",
      "|     USA|            2160|\n",
      "+--------+----------------+\n",
      "\n"
     ]
    }
   ],
   "source": [
    "total_sales_country = sales_df.join(menu_df, \"product_id\").groupBy(\"location\").agg(sum(\"price\").alias(\"sales_by_country\")).orderBy(col(\"sales_by_country\").desc())\n",
    "total_sales_country.show()"
   ]
  },
  {
   "cell_type": "code",
   "execution_count": 43,
   "id": "1481cf2d-e39f-4729-8f1a-b2a5c3a57bf3",
   "metadata": {},
   "outputs": [
    {
     "name": "stdout",
     "output_type": "stream",
     "text": [
      "+------------+----------+\n",
      "|product_name|source_sum|\n",
      "+------------+----------+\n",
      "|    sandwich|      5760|\n",
      "|     Chowmin|      3600|\n",
      "|        Dosa|      1320|\n",
      "|       Pasta|      1080|\n",
      "|     Biryani|       480|\n",
      "+------------+----------+\n",
      "\n"
     ]
    }
   ],
   "source": [
    "df = sales_df.join(menu_df, \"product_id\").groupBy(\"product_name\").agg(sum(\"price\").alias(\"source_sum\")).orderBy(\"source_sum\", ascending = False)\n",
    "df.show()"
   ]
  },
  {
   "cell_type": "code",
   "execution_count": 45,
   "id": "1f4ba12c-d1d3-4ce3-bee4-7b5934ee68d2",
   "metadata": {},
   "outputs": [
    {
     "data": {
      "image/png": "[encoded data removed]",
      "text/plain": [
       "<Figure size 1000x600 with 1 Axes>"
      ]
     },
     "metadata": {},
     "output_type": "display_data"
    }
   ],
   "source": [
    "import pandas as pd\n",
    "import matplotlib.pyplot as plt\n",
    "import seaborn as sns\n",
    "from pyspark.sql.functions import sum\n",
    "\n",
    "# Set seaborn style and matplotlib inline for Jupyter\n",
    "%matplotlib inline\n",
    "sns.set(style=\"whitegrid\")\n",
    "\n",
    "# Example KPI: Total Revenue by Location\n",
    "df_revenue = sales_df.join(menu_df, \"product_id\") \\\n",
    "                     .groupBy(\"location\") \\\n",
    "                     .agg(sum(\"price\").alias(\"total_revenue\")) \\\n",
    "                     .toPandas()\n",
    "\n",
    "plt.figure(figsize=(10,6))\n",
    "sns.barplot(x=\"location\", y=\"total_revenue\", data=df_revenue)\n",
    "plt.title(\"Total Revenue by Location\")\n",
    "plt.xlabel(\"Location\")\n",
    "plt.ylabel(\"Revenue\")\n",
    "plt.xticks(rotation=45)\n",
    "plt.tight_layout()\n",
    "plt.show()"
   ]
  },
  {
   "cell_type": "code",
   "execution_count": 47,
   "id": "51012a16-1897-4f12-8a8e-c61c11a09715",
   "metadata": {},
   "outputs": [],
   "source": [
    "import matplotlib.pyplot as plt\n",
    "import seaborn as sns\n",
    "import pandas as pd"
   ]
  },
  {
   "cell_type": "code",
   "execution_count": 48,
   "id": "dc9e8bf9-6044-4131-94c0-574e5691d50c",
   "metadata": {},
   "outputs": [],
   "source": [
    "# Set style for plots\n",
    "sns.set(style=\"whitegrid\")"
   ]
  },
  {
   "cell_type": "markdown",
   "id": "9ef93019-885d-4334-baec-375b9b29f9d3",
   "metadata": {},
   "source": [
    "# Total Amount Spent by Product"
   ]
  },
  {
   "cell_type": "code",
   "execution_count": 52,
   "id": "d040d018-33c5-4fb5-b907-8ac1d5414cf6",
   "metadata": {},
   "outputs": [
    {
     "data": {
      "image/png": "[encoded data removed]",
      "text/plain": [
       "<Figure size 800x500 with 1 Axes>"
      ]
     },
     "metadata": {},
     "output_type": "display_data"
    }
   ],
   "source": [
    "# 1. Total Amount Spent by Product\n",
    "product_data = {\n",
    "    \"product_name\": [\"Biryani\", \"Chowmin\", \"Dosa\", \"Pasta\", \"Sandwich\"],\n",
    "    \"total_spent_on_food\": [480, 3600, 1320, 1080, 5760]\n",
    "}\n",
    "df_product = pd.DataFrame(product_data)\n",
    "\n",
    "plt.figure(figsize=(8, 5))\n",
    "sns.barplot(data=df_product, y=\"product_name\", x=\"total_spent_on_food\", color='green')\n",
    "plt.title(\"Total Amount Spent by Product\")\n",
    "plt.xlabel(\"Total Spent\")\n",
    "plt.ylabel(\"Product\")\n",
    "plt.tight_layout()\n",
    "plt.show()"
   ]
  },
  {
   "cell_type": "markdown",
   "id": "7bd735c0-0c41-45c7-a465-173515cf74d4",
   "metadata": {},
   "source": [
    "# Yearly Sales"
   ]
  },
  {
   "cell_type": "code",
   "execution_count": 53,
   "id": "a6473572-a123-4273-a62b-597eada9fafb",
   "metadata": {},
   "outputs": [
    {
     "data": {
      "image/png": "[encoded data removed]",
      "text/plain": [
       "<Figure size 600x400 with 1 Axes>"
      ]
     },
     "metadata": {},
     "output_type": "display_data"
    }
   ],
   "source": [
    "sns.set(style=\"whitegrid\")\n",
    "\n",
    "yearly_data = {\n",
    "    \"order_year\": [2022, 2023],\n",
    "    \"yearly_sales\": [4350, 7850]\n",
    "}\n",
    "df_yearly = pd.DataFrame(yearly_data)\n",
    "\n",
    "plt.figure(figsize=(6, 4))\n",
    "sns.lineplot(data=df_yearly, x=\"order_year\", y=\"yearly_sales\", marker='o', color='green')\n",
    "plt.title(\"Yearly Sales\")\n",
    "plt.xlabel(\"Year\")\n",
    "plt.ylabel(\"Sales\")\n",
    "plt.tight_layout()\n",
    "plt.show()"
   ]
  },
  {
   "cell_type": "markdown",
   "id": "6e5d6b8f-d417-4fe5-8c14-4c9cc072d1e2",
   "metadata": {},
   "source": [
    "# Monthly Sales"
   ]
  },
  {
   "cell_type": "code",
   "execution_count": 54,
   "id": "12cf661c-dab1-4862-a0ad-eaa62b11fdba",
   "metadata": {},
   "outputs": [
    {
     "data": {
      "image/png": "[encoded data removed]",
      "text/plain": [
       "<Figure size 800x500 with 1 Axes>"
      ]
     },
     "metadata": {},
     "output_type": "display_data"
    }
   ],
   "source": [
    "monthly_data = {\n",
    "    \"order_month\": [1, 2, 5, 6, 8, 10],\n",
    "    \"sales_each_month\": [2460, 2430, 2460, 2460, 810, 810]\n",
    "}\n",
    "df_monthly = pd.DataFrame(monthly_data)\n",
    "\n",
    "plt.figure(figsize=(8, 5))\n",
    "sns.barplot(data=df_monthly, x=\"order_month\", y=\"sales_each_month\", color='blue')\n",
    "plt.title(\"Monthly Sales\")\n",
    "plt.xlabel(\"Month\")\n",
    "plt.ylabel(\"Sales\")\n",
    "plt.tight_layout()\n",
    "plt.show()"
   ]
  },
  {
   "cell_type": "markdown",
   "id": "628121fb-1011-4aa5-9ad7-c4fc4a859ca8",
   "metadata": {},
   "source": [
    "# Quarterly Sales"
   ]
  },
  {
   "cell_type": "code",
   "execution_count": 55,
   "id": "9af20ccc-8336-4485-8651-22f31c87a8ab",
   "metadata": {},
   "outputs": [
    {
     "data": {
      "image/png": "[encoded data removed]",
      "text/plain": [
       "<Figure size 600x400 with 1 Axes>"
      ]
     },
     "metadata": {},
     "output_type": "display_data"
    }
   ],
   "source": [
    "quarterly_data = {\n",
    "    \"quarter\": [1, 2, 3, 4],\n",
    "    \"quarterly_sales\": [5760, 4860, 1620, 1620]\n",
    "}\n",
    "df_quarterly = pd.DataFrame(quarterly_data)\n",
    "\n",
    "plt.figure(figsize=(6, 4))\n",
    "sns.lineplot(data=df_quarterly, x=\"quarter\", y=\"quarterly_sales\", marker='o', color='red')\n",
    "plt.title(\"Quarterly Sales\")\n",
    "plt.xlabel(\"Quarter\")\n",
    "plt.ylabel(\"Sales\")\n",
    "plt.tight_layout()\n",
    "plt.show()"
   ]
  },
  {
   "cell_type": "code",
   "execution_count": null,
   "id": "f83729db-e953-4d4b-a5c6-0f4621a93362",
   "metadata": {},
   "outputs": [],
   "source": []
  }
 ],
 "metadata": {
  "kernelspec": {
   "display_name": "Python 3 (ipykernel)",
   "language": "python",
   "name": "python3"
  },
  "language_info": {
   "codemirror_mode": {
    "name": "ipython",
    "version": 3
   },
   "file_extension": ".py",
   "mimetype": "text/x-python",
   "name": "python",
   "nbconvert_exporter": "python",
   "pygments_lexer": "ipython3",
   "version": "3.12.7"
  }
 },
 "nbformat": 4,
 "nbformat_minor": 5
}
